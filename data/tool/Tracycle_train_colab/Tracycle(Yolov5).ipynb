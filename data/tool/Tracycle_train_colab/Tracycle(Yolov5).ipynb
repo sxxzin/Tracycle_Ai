{
  "nbformat": 4,
  "nbformat_minor": 2,
  "metadata": {
    "accelerator": "GPU",
    "colab": {
      "name": "Tracycle(Yolov5).ipynb",
      "provenance": [],
      "collapsed_sections": [],
      "machine_shape": "hm"
    },
    "kernelspec": {
      "display_name": "Python 3",
      "name": "python3"
    },
    "language_info": {
      "name": "python"
    }
  },
  "cells": [
    {
      "cell_type": "markdown",
      "source": [
        "# Tracycle with Yolo v5"
      ],
      "metadata": {
        "id": "veViNWvF1sIz"
      }
    },
    {
      "cell_type": "markdown",
      "source": [
        "## Yolo v5 다운로드 및 설치"
      ],
      "metadata": {
        "id": "BF-fkPCA11-x"
      }
    },
    {
      "cell_type": "code",
      "execution_count": null,
      "source": [
        "!git clone https://github.com/ultralytics/yolov5\r\n",
        "!cd yolov5;pip install -qr requirements.txt"
      ],
      "outputs": [
        {
          "output_type": "stream",
          "name": "stdout",
          "text": [
            "Cloning into 'yolov5'...\n",
            "remote: Enumerating objects: 8440, done.\u001b[K\n",
            "remote: Counting objects: 100% (154/154), done.\u001b[K\n",
            "remote: Compressing objects: 100% (110/110), done.\u001b[K\n",
            "remote: Total 8440 (delta 72), reused 89 (delta 44), pack-reused 8286\u001b[K\n",
            "Receiving objects: 100% (8440/8440), 9.60 MiB | 19.95 MiB/s, done.\n",
            "Resolving deltas: 100% (5812/5812), done.\n",
            "\u001b[K     |████████████████████████████████| 636 kB 12.1 MB/s \n",
            "\u001b[?25h"
          ]
        }
      ],
      "metadata": {
        "colab": {
          "base_uri": "https://localhost:8080/"
        },
        "id": "HlxaSs4t1WN7",
        "outputId": "f56935ca-21ad-4f3b-84db-b536246ee744"
      }
    },
    {
      "cell_type": "markdown",
      "source": [
        "## Google Drive 접근을 위한 마운트"
      ],
      "metadata": {
        "id": "Hx5rFd1T2FHS"
      }
    },
    {
      "cell_type": "code",
      "execution_count": null,
      "source": [
        "import os, sys \r\n",
        "from google.colab import drive \r\n",
        "\r\n",
        "drive.mount('/content/gdrive')"
      ],
      "outputs": [
        {
          "output_type": "stream",
          "name": "stdout",
          "text": [
            "Mounted at /content/gdrive\n"
          ]
        }
      ],
      "metadata": {
        "colab": {
          "base_uri": "https://localhost:8080/"
        },
        "id": "_9IvAaqj2L7H",
        "outputId": "a44dc218-924a-407c-98fc-260acaae4931"
      }
    },
    {
      "cell_type": "code",
      "execution_count": null,
      "source": [
        "# soft link로 Google Drive Directory 연결. \r\n",
        "!ln -s /content/gdrive/My\\ Drive/ /mydrive\r\n",
        "!ls /mydrive\r\n",
        "# Google Drive 밑에 Directory 생성. 이미 생성 되어 있을 시 오류 발생. \r\n",
        "!mkdir \"/mydrive/Project_Data\""
      ],
      "outputs": [
        {
          "output_type": "stream",
          "name": "stdout",
          "text": [
            " 기타  'Colab Notebooks'  'My Drive'  'Play Books Notes'   Project_Data\n",
            "mkdir: cannot create directory ‘/mydrive/Project_Data’: File exists\n"
          ]
        }
      ],
      "metadata": {
        "colab": {
          "base_uri": "https://localhost:8080/"
        },
        "id": "epZ8Ezhu2SCL",
        "outputId": "ecea82e7-8ced-4324-8b95-29efcb7d80d1"
      }
    },
    {
      "cell_type": "markdown",
      "source": [],
      "metadata": {
        "id": "AIyFVI_kHD9A"
      }
    },
    {
      "cell_type": "code",
      "execution_count": null,
      "source": [
        "### 최종 수정 Data 압축풀기 실질적으로 한번에 하나씩만 적용되므로(압축이 풀리는것처럼 보이나 실질적으로 구글드라이브에 하나만 풀림) 따로 파일 만들어서 하나씩 실행 후 초기화 하고 다시 실행하는 식으로 해야함\r\n",
        "\r\n",
        "#!unzip \"/content/gdrive/MyDrive/Project_Data/dataset/images/val.zip\" -d \"/content/gdrive/MyDrive/Project_Data/dataset/images/val\"\r\n",
        "#!unzip \"/content/gdrive/MyDrive/Project_Data/dataset/labels/val.zip\" -d \"/content/gdrive/MyDrive/Project_Data/dataset/labels/val\"\r\n",
        "\r\n",
        "# !unzip \"/content/gdrive/MyDrive/Project_Data/dataset/images/train.zip\" -d \"/content/gdrive/MyDrive/Project_Data/dataset/images/train\"\r\n",
        "# !unzip \"/content/gdrive/MyDrive/Project_Data/dataset/labels/train.zip\" -d \"/content/gdrive/MyDrive/Project_Data/dataset/labels/train\"\r\n"
      ],
      "outputs": [],
      "metadata": {
        "id": "OT6HPKdYR8nG"
      }
    },
    {
      "cell_type": "markdown",
      "source": [],
      "metadata": {
        "id": "5a8CCC-vPCXu"
      }
    },
    {
      "cell_type": "markdown",
      "source": [
        "## Dataset용 yaml 파일, Train 수행"
      ],
      "metadata": {
        "id": "urMCbw6663OP"
      }
    },
    {
      "cell_type": "code",
      "execution_count": null,
      "source": [
        "!wget -O /content/gdrive/MyDrive/Project_Data/Tracycle_Train.yaml https://raw.github.com/Koartifact/Tracycle_Ai/master/data/util/Tracycle_Train.yaml"
      ],
      "outputs": [
        {
          "output_type": "stream",
          "name": "stdout",
          "text": [
            "--2021-07-27 00:34:51--  https://raw.github.com/Koartifact/Tracycle_Ai/master/data/util/Tracycle_Train.yaml\n",
            "Resolving raw.github.com (raw.github.com)... 185.199.108.133, 185.199.109.133, 185.199.110.133, ...\n",
            "Connecting to raw.github.com (raw.github.com)|185.199.108.133|:443... connected.\n",
            "HTTP request sent, awaiting response... 301 Moved Permanently\n",
            "Location: https://raw.githubusercontent.com/Koartifact/Tracycle_Ai/master/data/util/Tracycle_Train.yaml [following]\n",
            "--2021-07-27 00:34:52--  https://raw.githubusercontent.com/Koartifact/Tracycle_Ai/master/data/util/Tracycle_Train.yaml\n",
            "Resolving raw.githubusercontent.com (raw.githubusercontent.com)... 185.199.109.133, 185.199.111.133, 185.199.110.133, ...\n",
            "Connecting to raw.githubusercontent.com (raw.githubusercontent.com)|185.199.109.133|:443... connected.\n",
            "HTTP request sent, awaiting response... 200 OK\n",
            "Length: 787 [text/plain]\n",
            "Saving to: ‘/content/gdrive/MyDrive/Project_Data/Tracycle_Train.yaml’\n",
            "\n",
            "/content/gdrive/MyD 100%[===================>]     787  --.-KB/s    in 0s      \n",
            "\n",
            "2021-07-27 00:34:52 (30.6 MB/s) - ‘/content/gdrive/MyDrive/Project_Data/Tracycle_Train.yaml’ saved [787/787]\n",
            "\n"
          ]
        }
      ],
      "metadata": {
        "colab": {
          "base_uri": "https://localhost:8080/"
        },
        "id": "khT_1Oc47Bbx",
        "outputId": "2dc722eb-bc44-43a8-e5c2-4877444bf432"
      }
    },
    {
      "cell_type": "code",
      "execution_count": null,
      "source": [
        "###  첫 학습 batch size는 8로 정할것. 16으로 설정시 성능이 좋아지지 않음. epoch은 test 적당히\r\n",
        "!cd /content/yolov5; python train.py --img 600 --batch 8 --epochs 130 --data /content/gdrive/MyDrive/Project_Data/Tracycle_Train.yaml --weights yolov5m.pt \\\r\n",
        "                                     --project=/mydrive/Project_Data --name summary --exist-ok \r\n",
        "\r\n",
        "### 첫 학습이후 학습 멈췄으면 다음부터 마지막 가중치로 학습\r\n",
        "#!cd /content/yolov5; python train.py --img 600 --batch 8 --epochs 200 --data /content/gdrive/MyDrive/Project_Data/Tracycle_Train.yaml --weights 마지막꺼.pt \\\r\n",
        "#                                     --project=/mydrive/Project_Data --name summary --exist-ok                                    "
      ],
      "outputs": [
        {
          "output_type": "stream",
          "name": "stdout",
          "text": [
            "\u001b[34m\u001b[1mtrain: \u001b[0mweights=yolov5s.pt, cfg=, data=/content/gdrive/MyDrive/Project_Data/Tracycle_Train.yaml, hyp=data/hyps/hyp.scratch.yaml, epochs=200, batch_size=8, imgsz=600, rect=False, resume=False, nosave=False, noval=False, noautoanchor=False, evolve=None, bucket=, cache_images=False, image_weights=False, device=, multi_scale=False, single_cls=False, adam=False, sync_bn=False, workers=8, project=/mydrive/Project_Data, entity=None, name=요약정리, exist_ok=True, quad=False, linear_lr=False, label_smoothing=0.0, upload_dataset=False, bbox_interval=-1, save_period=-1, artifact_alias=latest, local_rank=-1\n",
            "\u001b[34m\u001b[1mgithub: \u001b[0mup to date with https://github.com/ultralytics/yolov5 ✅\n",
            "YOLOv5 🚀 v5.0-318-g0ad6301 torch 1.9.0+cu102 CUDA:0 (Tesla V100-SXM2-16GB, 16160.5MB)\n",
            "\n",
            "\u001b[34m\u001b[1mhyperparameters: \u001b[0mlr0=0.01, lrf=0.2, momentum=0.937, weight_decay=0.0005, warmup_epochs=3.0, warmup_momentum=0.8, warmup_bias_lr=0.1, box=0.05, cls=0.5, cls_pw=1.0, obj=1.0, obj_pw=1.0, iou_t=0.2, anchor_t=4.0, fl_gamma=0.0, hsv_h=0.015, hsv_s=0.7, hsv_v=0.4, degrees=0.0, translate=0.1, scale=0.5, shear=0.0, perspective=0.0, flipud=0.0, fliplr=0.5, mosaic=1.0, mixup=0.0, copy_paste=0.0\n",
            "Traceback (most recent call last):\n",
            "  File \"train.py\", line 586, in <module>\n",
            "    main(opt)\n",
            "  File \"train.py\", line 485, in main\n",
            "    train(opt.hyp, opt, device)\n",
            "  File \"train.py\", line 82, in train\n",
            "    data_dict = yaml.safe_load(f)\n",
            "  File \"/usr/local/lib/python3.7/dist-packages/yaml/__init__.py\", line 162, in safe_load\n",
            "    return load(stream, SafeLoader)\n",
            "  File \"/usr/local/lib/python3.7/dist-packages/yaml/__init__.py\", line 114, in load\n",
            "    return loader.get_single_data()\n",
            "  File \"/usr/local/lib/python3.7/dist-packages/yaml/constructor.py\", line 49, in get_single_data\n",
            "    node = self.get_single_node()\n",
            "  File \"/usr/local/lib/python3.7/dist-packages/yaml/composer.py\", line 36, in get_single_node\n",
            "    document = self.compose_document()\n",
            "  File \"/usr/local/lib/python3.7/dist-packages/yaml/composer.py\", line 55, in compose_document\n",
            "    node = self.compose_node(None, None)\n",
            "  File \"/usr/local/lib/python3.7/dist-packages/yaml/composer.py\", line 84, in compose_node\n",
            "    node = self.compose_mapping_node(anchor)\n",
            "  File \"/usr/local/lib/python3.7/dist-packages/yaml/composer.py\", line 133, in compose_mapping_node\n",
            "    item_value = self.compose_node(node, item_key)\n",
            "  File \"/usr/local/lib/python3.7/dist-packages/yaml/composer.py\", line 82, in compose_node\n",
            "    node = self.compose_sequence_node(anchor)\n",
            "  File \"/usr/local/lib/python3.7/dist-packages/yaml/composer.py\", line 110, in compose_sequence_node\n",
            "    while not self.check_event(SequenceEndEvent):\n",
            "  File \"/usr/local/lib/python3.7/dist-packages/yaml/parser.py\", line 98, in check_event\n",
            "    self.current_event = self.state()\n",
            "  File \"/usr/local/lib/python3.7/dist-packages/yaml/parser.py\", line 484, in parse_flow_sequence_entry\n",
            "    \"expected ',' or ']', but got %r\" % token.id, token.start_mark)\n",
            "yaml.parser.ParserError: while parsing a flow sequence\n",
            "  in \"/content/gdrive/MyDrive/Project_Data/Tracycle_Train.yaml\", line 7, column 8\n",
            "expected ',' or ']', but got '<scalar>'\n",
            "  in \"/content/gdrive/MyDrive/Project_Data/Tracycle_Train.yaml\", line 9, column 5\n"
          ]
        }
      ],
      "metadata": {
        "id": "AYxtCROC7CHC",
        "colab": {
          "base_uri": "https://localhost:8080/"
        },
        "outputId": "80fd1140-bf03-4c23-f30f-c7e714ffc2fd"
      }
    }
  ]
}